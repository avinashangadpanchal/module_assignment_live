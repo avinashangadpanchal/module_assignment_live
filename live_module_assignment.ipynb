{
  "nbformat": 4,
  "nbformat_minor": 0,
  "metadata": {
    "colab": {
      "provenance": []
    },
    "kernelspec": {
      "name": "python3",
      "display_name": "Python 3"
    },
    "language_info": {
      "name": "python"
    }
  },
  "cells": [
    {
      "cell_type": "markdown",
      "source": [
        "\n",
        "\n",
        "##Queston 1.2 Which of the Identifier Names Are Invalid and Why?\n",
        "\n",
        "- **a) Serial_no.**\n",
        "  - **Invalid**: Contains a period (.) which is not allowed in identifiers.\n",
        "\n",
        "- **b) lst_Room**\n",
        "  - **Valid**: Follows the convention of using underscores (_) in identifiers.\n",
        "\n",
        "- **c) Hundreds3**\n",
        "  - **Valid**: Alphanumeric and starts with a letter.\n",
        "\n",
        "- **d) Total_Marks**\n",
        "  - **Valid**: Uses underscores (_) and follows the naming convention.\n",
        "\n",
        "- **e) total-Marks**\n",
        "  - **Invalid**: Contains a hyphen (-), which is not allowed.\n",
        "\n",
        "- **f) Total Marks**\n",
        "  - **Invalid**: Contains a space, which is not allowed.\n",
        "\n",
        "- **g) True**\n",
        "  - **Invalid**: Likely a reserved keyword in many programming languages.\n",
        "\n",
        "- **h) _Percentag**\n",
        "  - **Invalid**: Misspelled; should be \"_Percentage.\""
      ],
      "metadata": {
        "id": "4GgVAAzlYu5y"
      }
    },
    {
      "cell_type": "markdown",
      "source": [
        "**Question 1.3**\n",
        "-   name = ['Mohan', 'dash', 'karan', 'chandra', 'gandhi', 'Bapu']\n",
        "    -   do the following operation in the list"
      ],
      "metadata": {
        "id": "UPPsiJAYZHEX"
      }
    },
    {
      "cell_type": "code",
      "source": [
        "#A. add an element 'freedom_fighter' at the 0th index of the list\n",
        "name = ['Mohan', 'dash', 'karan', 'chandra', 'gandhi', 'Bapu']\n",
        "name = ['freedom_fighter'] + name\n",
        "print(name)"
      ],
      "metadata": {
        "colab": {
          "base_uri": "https://localhost:8080/"
        },
        "id": "HX2v7wYRZPz2",
        "outputId": "ca8d8490-b3b6-4c7b-ceae-86f8b13f42b0"
      },
      "execution_count": 20,
      "outputs": [
        {
          "output_type": "stream",
          "name": "stdout",
          "text": [
            "['freedom_fighter', 'Mohan', 'dash', 'karan', 'chandra', 'gandhi', 'Bapu']\n"
          ]
        }
      ]
    },
    {
      "cell_type": "code",
      "source": [
        "#B. find the output of the following and explain how?\n",
        "name = [\"freedomFighter\",\"Bapuji\",\"Mohan\",\"dash\",\"karam\",\"chandra\",\"gandhi\"]\n",
        "length1 = len((name[-len(name)+1:-1:2]))\n",
        "length2 = len((name[-len(name)+1:-1]))\n",
        "print(length1+length2)\n"
      ],
      "metadata": {
        "colab": {
          "base_uri": "https://localhost:8080/"
        },
        "id": "MnO7IUTOZUTg",
        "outputId": "739bfdc3-1dec-488e-9192-784fb49e597d"
      },
      "execution_count": 21,
      "outputs": [
        {
          "output_type": "stream",
          "name": "stdout",
          "text": [
            "8\n"
          ]
        }
      ]
    },
    {
      "cell_type": "code",
      "source": [
        "#C. Add two more elements in the name [\"Netsji\",\"Bose\"] at the end of the list.\n",
        "name = ['Mohan', 'dash', 'karam', 'chandra', 'gandhi', 'Bapu']\n",
        "name.extend([\"Netaji\",\"Bose\"])\n",
        "print(name)"
      ],
      "metadata": {
        "colab": {
          "base_uri": "https://localhost:8080/"
        },
        "id": "H7Qtvy7SZX9X",
        "outputId": "e77c792c-5c4b-4497-f8e1-e546adef0bbc"
      },
      "execution_count": 22,
      "outputs": [
        {
          "output_type": "stream",
          "name": "stdout",
          "text": [
            "['Mohan', 'dash', 'karam', 'chandra', 'gandhi', 'Bapu', 'Netaji', 'Bose']\n"
          ]
        }
      ]
    },
    {
      "cell_type": "code",
      "source": [
        "#D. what will be the value of twmp:\n",
        "name = ['Bapuji', 'dash', 'karam', 'chandra', 'gandhi', 'Mohan']\n",
        "temp=name[-1]\n",
        "name[-1]= name[0]\n",
        "name[0]=temp\n",
        "print(name)"
      ],
      "metadata": {
        "colab": {
          "base_uri": "https://localhost:8080/"
        },
        "id": "O9TSrZvDZbNj",
        "outputId": "a1824cd1-6af9-4cde-9bfe-7aa512a95627"
      },
      "execution_count": 23,
      "outputs": [
        {
          "output_type": "stream",
          "name": "stdout",
          "text": [
            "['Mohan', 'dash', 'karam', 'chandra', 'gandhi', 'Bapuji']\n"
          ]
        }
      ]
    },
    {
      "cell_type": "markdown",
      "source": [
        "**Question 1.4**  Find the output of the following\n",
        "-   animal = ['Human','cat','mat','cat','rat','Human','Lion']\n",
        "-   print(animal.count('Human'))\n",
        "-   print(animal.index('rat'))\n",
        "-   print(len(animal)"
      ],
      "metadata": {
        "id": "P6t9ZOALZgQX"
      }
    },
    {
      "cell_type": "code",
      "source": [
        "animal = ['Human','cat','mat','cat','rat','Human','Lion']\n",
        "print(animal.count('Human'))\n",
        "print(animal.index('rat'))\n",
        "print(len(animal))"
      ],
      "metadata": {
        "colab": {
          "base_uri": "https://localhost:8080/"
        },
        "id": "hWgnjA_QZkfA",
        "outputId": "6f55815a-94e4-4c94-9981-733766867d9c"
      },
      "execution_count": 24,
      "outputs": [
        {
          "output_type": "stream",
          "name": "stdout",
          "text": [
            "2\n",
            "4\n",
            "7\n"
          ]
        }
      ]
    },
    {
      "cell_type": "code",
      "source": [],
      "metadata": {
        "id": "4ZU3bwxoZsAW"
      },
      "execution_count": null,
      "outputs": []
    },
    {
      "cell_type": "markdown",
      "source": [
        "**Question 1.5**"
      ],
      "metadata": {
        "id": "DsBalNNwZyVu"
      }
    },
    {
      "cell_type": "code",
      "source": [
        "tuple1=(10,20,'Apple',3.4,'a',['Master',\"ji\"],('sita','geeta',22),[{'roll_no':1},{\"name\":\"Navneet\"}])\n",
        "print(len(tuple1))"
      ],
      "metadata": {
        "colab": {
          "base_uri": "https://localhost:8080/"
        },
        "id": "nG812iJmZz9T",
        "outputId": "407b705c-8065-4135-fc2f-afba8d4024e7"
      },
      "execution_count": 25,
      "outputs": [
        {
          "output_type": "stream",
          "name": "stdout",
          "text": [
            "8\n"
          ]
        }
      ]
    },
    {
      "cell_type": "code",
      "source": [
        "print(tuple1[-1][-1][\"name\"])"
      ],
      "metadata": {
        "colab": {
          "base_uri": "https://localhost:8080/"
        },
        "id": "IF4xFFsdZ2UH",
        "outputId": "37ec49ec-c04c-4153-be17-3b90d88aa9e5"
      },
      "execution_count": 26,
      "outputs": [
        {
          "output_type": "stream",
          "name": "stdout",
          "text": [
            "Navneet\n"
          ]
        }
      ]
    },
    {
      "cell_type": "code",
      "source": [
        "#fetch the value of roll number from tuple\n",
        "print(tuple1[7][0]['roll_no'])"
      ],
      "metadata": {
        "colab": {
          "base_uri": "https://localhost:8080/"
        },
        "id": "5i6SLGOuZ7LL",
        "outputId": "2415bbc9-359f-4230-ae1f-aeabbc774ef9"
      },
      "execution_count": 27,
      "outputs": [
        {
          "output_type": "stream",
          "name": "stdout",
          "text": [
            "1\n"
          ]
        }
      ]
    },
    {
      "cell_type": "code",
      "source": [
        "print(tuple1[-3][1])"
      ],
      "metadata": {
        "colab": {
          "base_uri": "https://localhost:8080/"
        },
        "id": "ELVZN336Z87c",
        "outputId": "e161e448-ca5e-4944-8e1a-4799406be61c"
      },
      "execution_count": 28,
      "outputs": [
        {
          "output_type": "stream",
          "name": "stdout",
          "text": [
            "ji\n"
          ]
        }
      ]
    },
    {
      "cell_type": "code",
      "source": [
        "#fetch the element 22 from the tuple\n",
        "print(tuple1[6][2])"
      ],
      "metadata": {
        "colab": {
          "base_uri": "https://localhost:8080/"
        },
        "id": "TB17XwzUaAxh",
        "outputId": "e61331a2-5674-496b-c524-4c011fa5f535"
      },
      "execution_count": 29,
      "outputs": [
        {
          "output_type": "stream",
          "name": "stdout",
          "text": [
            "22\n"
          ]
        }
      ]
    },
    {
      "cell_type": "markdown",
      "source": [
        "Question 1.6 Write a program to display the appropriate message as per the color of signal (RED-Stop/Yellow-Stay/ Green-Go) at the road crossing."
      ],
      "metadata": {
        "id": "pglNazkGMyIj"
      }
    },
    {
      "cell_type": "code",
      "execution_count": null,
      "metadata": {
        "colab": {
          "base_uri": "https://localhost:8080/"
        },
        "id": "p3L-1g2LoKQd",
        "outputId": "0a825134-b550-480a-e49a-4efc700d3737"
      },
      "outputs": [
        {
          "output_type": "stream",
          "name": "stdout",
          "text": [
            "Enter the color of signal: RED\n",
            "Stop\n"
          ]
        }
      ],
      "source": [
        "#\n",
        "signal = input(\"Enter the color of signal: \")\n",
        "if signal == \"RED\":\n",
        "  print(\"Stop\")\n",
        "elif signal == \"YELLOW\":\n",
        "  print(\"Stay\")\n",
        "elif signal == \" GREEN\":\n",
        "  print(\"Go\")"
      ]
    },
    {
      "cell_type": "markdown",
      "source": [
        "Question 1.7 Write a program to create a simple calculator performing only four basic operations (+,-,/.)."
      ],
      "metadata": {
        "id": "-V1RiU3kLxJs"
      }
    },
    {
      "cell_type": "code",
      "source": [
        "\n",
        "# Simple Calculator Program\n",
        "\n",
        "def add(x, y):\n",
        "    return x + y\n",
        "\n",
        "def subtract(x, y):\n",
        "    return x - y\n",
        "\n",
        "def multiply(x, y):\n",
        "    return x * y\n",
        "\n",
        "def divide(x, y):\n",
        "    if y == 0:\n",
        "        return \"Error: Division by zero is not allowed.\"\n",
        "    return x / y\n",
        "\n",
        "def main():\n",
        "    print(\"Simple Calculator\")\n",
        "    print(\"Select operation:\")\n",
        "    print(\"1. Add (+)\")\n",
        "    print(\"2. Subtract (-)\")\n",
        "    print(\"3. Multiply (*)\")\n",
        "    print(\"4. Divide (/)\")\n",
        "\n",
        "    # Take input from the user\n",
        "    choice = input(\"Enter choice (1/2/3/4): \")\n",
        "\n",
        "    if choice in ('1', '2', '3', '4'):\n",
        "        try:\n",
        "            num1 = float(input(\"Enter first number: \"))\n",
        "            num2 = float(input(\"Enter second number: \"))\n",
        "\n",
        "            if choice == '1':\n",
        "                print(f\"{num1} + {num2} = {add(num1, num2)}\")\n",
        "\n",
        "            elif choice == '2':\n",
        "                print(f\"{num1} - {num2} = {subtract(num1, num2)}\")\n",
        "\n",
        "            elif choice == '3':\n",
        "                print(f\"{num1} * {num2} = {multiply(num1, num2)}\")\n",
        "\n",
        "            elif choice == '4':\n",
        "                print(f\"{num1} / {num2} = {divide(num1, num2)}\")\n",
        "\n",
        "        except ValueError:\n",
        "            print(\"Invalid input! Please enter numeric values.\")\n",
        "\n",
        "    else:\n",
        "        print(\"Invalid choice! Please select a valid operation (1/2/3/4).\")\n",
        "\n",
        "if __name__ == \"__main__\":\n",
        "    main()\n"
      ],
      "metadata": {
        "id": "w0fg-R8ssfW4",
        "colab": {
          "base_uri": "https://localhost:8080/"
        },
        "outputId": "c40b6184-a497-42c5-f029-bf11337faf80"
      },
      "execution_count": 3,
      "outputs": [
        {
          "output_type": "stream",
          "name": "stdout",
          "text": [
            "Simple Calculator\n",
            "Select operation:\n",
            "1. Add (+)\n",
            "2. Subtract (-)\n",
            "3. Multiply (*)\n",
            "4. Divide (/)\n",
            "Enter choice (1/2/3/4): 1\n",
            "Enter first number: 12\n",
            "Enter second number: 8\n",
            "12.0 + 8.0 = 20.0\n"
          ]
        }
      ]
    },
    {
      "cell_type": "markdown",
      "source": [
        "Question 1.8. Write a program to find the larger of the three pre-specified numbers using ternary operators."
      ],
      "metadata": {
        "id": "bzKomKQxMDQJ"
      }
    },
    {
      "cell_type": "code",
      "source": [
        "\n",
        "# Pre-specified numbers\n",
        "a = 10\n",
        "b = 20\n",
        "c = 15\n",
        "\n",
        "# Using nested ternary operators to find the largest number\n",
        "largest = a if (a > b and a > c) else (b if b > c else c)\n",
        "\n",
        "# Output the result\n",
        "print(f\"The largest of the three numbers {a}, {b}, and {c} is: {largest}\")\n"
      ],
      "metadata": {
        "colab": {
          "base_uri": "https://localhost:8080/"
        },
        "id": "ONMpAvJkv_jc",
        "outputId": "075517e6-919a-4348-ada3-392c36b18654"
      },
      "execution_count": 4,
      "outputs": [
        {
          "output_type": "stream",
          "name": "stdout",
          "text": [
            "The largest of the three numbers 10, 20, and 15 is: 20\n"
          ]
        }
      ]
    },
    {
      "cell_type": "markdown",
      "source": [
        "Question 1.9. Write a program to find the factors of a whole number using a while loop"
      ],
      "metadata": {
        "id": "uSV7B0YmMR_S"
      }
    },
    {
      "cell_type": "code",
      "source": [
        "\n",
        "# Input: Whole number from the user\n",
        "number = int(input(\"Enter a whole number: \"))\n",
        "\n",
        "# Initializing a variable to start checking factors from 1\n",
        "i = 1\n",
        "\n",
        "# Using a while loop to find factors\n",
        "print(f\"Factors of {number} are:\")\n",
        "while i <= number:\n",
        "    if number % i == 0:\n",
        "        print(i)\n",
        "    i += 1\n"
      ],
      "metadata": {
        "colab": {
          "base_uri": "https://localhost:8080/"
        },
        "id": "ZjQBRhN1z625",
        "outputId": "ffce660b-b784-473f-deaf-ed1073b146c7"
      },
      "execution_count": 5,
      "outputs": [
        {
          "output_type": "stream",
          "name": "stdout",
          "text": [
            "Enter a whole number: 25\n",
            "Factors of 25 are:\n",
            "1\n",
            "5\n",
            "25\n"
          ]
        }
      ]
    },
    {
      "cell_type": "markdown",
      "source": [
        "Question 1.10. Write a program to find the sum of all the positive numbers entered by the user. As soon as the user enters a negative number, stop taking in any further input from the user and display the sum."
      ],
      "metadata": {
        "id": "HPUYHb2yMfCa"
      }
    },
    {
      "cell_type": "code",
      "source": [
        "#\n",
        "# Initialize the sum to 0\n",
        "sum_of_numbers = 0\n",
        "\n",
        "print(\"Enter positive numbers to sum them up.\")\n",
        "print(\"Enter a negative number to stop and display the sum.\")\n",
        "\n",
        "while True:\n",
        "    try:\n",
        "        # Take input from the user\n",
        "        number = float(input(\"Enter a number: \"))\n",
        "\n",
        "        # Check if the entered number is negative\n",
        "        if number < 0:\n",
        "            break  # Exit the loop if a negative number is entered\n",
        "\n",
        "        # Add the positive number to the sum\n",
        "        sum_of_numbers += number\n",
        "    except ValueError:\n",
        "        print(\"Invalid input! Please enter a valid number.\")\n",
        "        continue\n",
        "\n",
        "# Display the sum of all positive numbers entered\n",
        "print(f\"The sum of all positive numbers entered is: {sum_of_numbers}\")\n"
      ],
      "metadata": {
        "colab": {
          "base_uri": "https://localhost:8080/"
        },
        "id": "dwJDexMFz65V",
        "outputId": "b779a7b7-2782-44b3-f7fc-306ba7dbcfed"
      },
      "execution_count": 6,
      "outputs": [
        {
          "output_type": "stream",
          "name": "stdout",
          "text": [
            "Enter positive numbers to sum them up.\n",
            "Enter a negative number to stop and display the sum.\n",
            "Enter a number: 5\n",
            "Enter a number: 15\n",
            "Enter a number: 10\n",
            "Enter a number: -5\n",
            "The sum of all positive numbers entered is: 30.0\n"
          ]
        }
      ]
    },
    {
      "cell_type": "markdown",
      "source": [
        "Question 1.11. Write a program to find prime numbers between 2 to 100 using nested for loops"
      ],
      "metadata": {
        "id": "vxFAmy9aMqvs"
      }
    },
    {
      "cell_type": "code",
      "source": [
        "\n",
        "# Program to find prime numbers between 2 and 100\n",
        "\n",
        "print(\"Prime numbers between 2 and 100 are:\")\n",
        "\n",
        "# Loop through numbers from 2 to 100\n",
        "for num in range(2, 101):  # Outer loop iterating over each number\n",
        "    is_prime = True  # Assume the number is prime\n",
        "\n",
        "    # Check divisibility of the number with all numbers less than itself\n",
        "    for i in range(2, num):  # Inner loop to check divisibility\n",
        "        if num % i == 0:  # If num is divisible by i, it's not prime\n",
        "            is_prime = False\n",
        "            break  # Exit the loop since we found a divisor\n",
        "\n",
        "    # If is_prime is still True, then the number is prime\n",
        "    if is_prime:\n",
        "        print(num)\n"
      ],
      "metadata": {
        "colab": {
          "base_uri": "https://localhost:8080/"
        },
        "id": "dfHDSe2Hz673",
        "outputId": "ae3fb3ec-c719-4788-8d47-31809a2d06cc"
      },
      "execution_count": 7,
      "outputs": [
        {
          "output_type": "stream",
          "name": "stdout",
          "text": [
            "Prime numbers between 2 and 100 are:\n",
            "2\n",
            "3\n",
            "5\n",
            "7\n",
            "11\n",
            "13\n",
            "17\n",
            "19\n",
            "23\n",
            "29\n",
            "31\n",
            "37\n",
            "41\n",
            "43\n",
            "47\n",
            "53\n",
            "59\n",
            "61\n",
            "67\n",
            "71\n",
            "73\n",
            "79\n",
            "83\n",
            "89\n",
            "97\n"
          ]
        }
      ]
    },
    {
      "cell_type": "code",
      "source": [],
      "metadata": {
        "id": "b3rxdRpCz6-q"
      },
      "execution_count": null,
      "outputs": []
    },
    {
      "cell_type": "code",
      "source": [],
      "metadata": {
        "id": "PXKFc8lh-riv"
      },
      "execution_count": null,
      "outputs": []
    },
    {
      "cell_type": "code",
      "source": [],
      "metadata": {
        "id": "GKquu_xnz7Bb"
      },
      "execution_count": null,
      "outputs": []
    },
    {
      "cell_type": "markdown",
      "source": [
        "Question 2. Design and implement a Python program for managing student information using object-oriented principles. Create a class called 'Student with encapsulated attributes for name, age, and roll number. Implement getter and setter methods for these attributes. Additionally, provide methods to display student information and update student details.\n",
        "\n",
        "**Tasks**:\n",
        "* Define the 'Student class with encapsulated attributes.\n",
        "* Implement getter and setter methods for the attributes.\n",
        "* Write methods to display student information and update details.\n",
        "* Create instances of the \"Student' class and test the implemented functionality."
      ],
      "metadata": {
        "id": "34HEhFyT_bPE"
      }
    },
    {
      "cell_type": "code",
      "source": [
        "class Student:\n",
        "    def __init__(self, name, age, roll_number):\n",
        "        # Encapsulated attributes\n",
        "        self.__name = name\n",
        "        self.__age = age\n",
        "        self.__roll_number = roll_number\n",
        "\n",
        "    # Getter method for name\n",
        "    def get_name(self):\n",
        "        return self.__name\n",
        "\n",
        "    # Setter method for name\n",
        "    def set_name(self, name):\n",
        "        self.__name = name\n",
        "\n",
        "    # Getter method for age\n",
        "    def get_age(self):\n",
        "        return self.__age\n",
        "\n",
        "    # Setter method for age\n",
        "    def set_age(self, age):\n",
        "        if age > 0:  # Simple validation to ensure age is positive\n",
        "            self.__age = age\n",
        "        else:\n",
        "            print(\"Please enter a valid age.\")\n",
        "\n",
        "    # Getter method for roll_number\n",
        "    def get_roll_number(self):\n",
        "        return self.__roll_number\n",
        "\n",
        "    # Setter method for roll_number\n",
        "    def set_roll_number(self, roll_number):\n",
        "        self.__roll_number = roll_number\n",
        "\n",
        "    # Method to display student information\n",
        "    def display_info(self):\n",
        "        print(f\"Student Information:\\nName: {self.__name}\\nAge: {self.__age}\\nRoll Number: {self.__roll_number}\")\n",
        "\n",
        "    # Method to update student details\n",
        "    def update_info(self, name=None, age=None, roll_number=None):\n",
        "        if name is not None:\n",
        "            self.set_name(name)\n",
        "        if age is not None:\n",
        "            self.set_age(age)\n",
        "        if roll_number is not None:\n",
        "            self.set_roll_number(roll_number)\n",
        "\n",
        "# Testing the Student class\n",
        "\n",
        "# Creating an instance of the Student class\n",
        "student1 = Student(\"Alice\", 20, 101)\n",
        "\n",
        "# Displaying student information\n",
        "student1.display_info()\n",
        "\n",
        "# Updating student details\n",
        "student1.update_info(name=\"Alice Smith\", age=21)\n",
        "print(\"\\nAfter updating details:\")\n",
        "student1.display_info()\n",
        "\n",
        "# Directly using setters to update attributes\n",
        "student1.set_age(22)\n",
        "student1.set_roll_number(102)\n",
        "print(\"\\nAfter setting new age and roll number:\")\n",
        "student1.display_info()\n",
        "\n",
        "# Accessing attributes using getters\n",
        "print(\"\\nAccessing individual attributes:\")\n",
        "print(f\"Name: {student1.get_name()}\")\n",
        "print(f\"Age: {student1.get_age()}\")\n",
        "print(f\"Roll Number: {student1.get_roll_number()}\")\n"
      ],
      "metadata": {
        "colab": {
          "base_uri": "https://localhost:8080/"
        },
        "id": "XuVGhJpv-sEK",
        "outputId": "9c8593de-4770-423f-d087-17a65ff88461"
      },
      "execution_count": 9,
      "outputs": [
        {
          "output_type": "stream",
          "name": "stdout",
          "text": [
            "Student Information:\n",
            "Name: Alice\n",
            "Age: 20\n",
            "Roll Number: 101\n",
            "\n",
            "After updating details:\n",
            "Student Information:\n",
            "Name: Alice Smith\n",
            "Age: 21\n",
            "Roll Number: 101\n",
            "\n",
            "After setting new age and roll number:\n",
            "Student Information:\n",
            "Name: Alice Smith\n",
            "Age: 22\n",
            "Roll Number: 102\n",
            "\n",
            "Accessing individual attributes:\n",
            "Name: Alice Smith\n",
            "Age: 22\n",
            "Roll Number: 102\n"
          ]
        }
      ]
    },
    {
      "cell_type": "markdown",
      "source": [
        "Question 3.Develop a Python program for managing library resources efficiently. Design a class named \"LibraryBook with attributes like book name, author, and availability status. Implement methods for borrowing and returning books while ensuring proper encapsulation of attributes.\n",
        "\n",
        "Tasks:\n",
        "\n",
        "1. Create the 'LibraryBook class with encapsulated attributes.\n",
        "\n",
        "2. Implement methods for borrowing and returning books.\n",
        "\n",
        "3. Ensure proper encapsulation to protect book details.\n",
        "\n",
        "4. Test the borrowing and returning functionality with sample data.\n"
      ],
      "metadata": {
        "id": "t-UxeY9IAaEr"
      }
    },
    {
      "cell_type": "code",
      "source": [
        "class LibraryBook:\n",
        "    def __init__(self, book_name, author):\n",
        "        self.__book_name = book_name\n",
        "        self.__author = author\n",
        "        self.__availability_status = True  # True indicates the book is available\n",
        "\n",
        "    # Getter method for book name\n",
        "    def get_book_name(self):\n",
        "        return self.__book_name\n",
        "\n",
        "    # Setter method for book name\n",
        "    def set_book_name(self, book_name):\n",
        "        self.__book_name = book_name\n",
        "\n",
        "    # Getter method for author\n",
        "    def get_author(self):\n",
        "        return self.__author\n",
        "\n",
        "    # Setter method for author\n",
        "    def set_author(self, author):\n",
        "        self.__author = author\n",
        "\n",
        "    # Getter method for availability status\n",
        "    def is_available(self):\n",
        "        return self.__availability_status\n",
        "\n",
        "    # Method to borrow a book\n",
        "    def borrow_book(self):\n",
        "        if self.__availability_status:\n",
        "            self.__availability_status = False\n",
        "            print(f\"The book '{self.__book_name}' by {self.__author} has been borrowed.\")\n",
        "        else:\n",
        "            print(f\"The book '{self.__book_name}' by {self.__author} is already borrowed and not available.\")\n",
        "\n",
        "    # Method to return a book\n",
        "    def return_book(self):\n",
        "        if not self.__availability_status:\n",
        "            self.__availability_status = True\n",
        "            print(f\"The book '{self.__book_name}' by {self.__author} has been returned and is now available.\")\n",
        "        else:\n",
        "            print(f\"The book '{self.__book_name}' by {self.__author} is already available in the library.\")\n",
        "\n",
        "    # Method to display book information\n",
        "    def display_info(self):\n",
        "        status = \"Available\" if self.__availability_status else \"Not Available\"\n",
        "        print(f\"Book Name: {self.__book_name}\\nAuthor: {self.__author}\\nAvailability Status: {status}\")\n",
        "\n",
        "# Testing the LibraryBook class\n",
        "\n",
        "# Creating instances of the LibraryBook class\n",
        "book1 = LibraryBook(\"The Great Gatsby\", \"F. Scott Fitzgerald\")\n",
        "book2 = LibraryBook(\"To Kill a Mockingbird\", \"Harper Lee\")\n",
        "\n",
        "# Displaying book information\n",
        "print(\"Initial State of Books:\")\n",
        "book1.display_info()\n",
        "book2.display_info()\n",
        "\n",
        "# Borrowing books\n",
        "print(\"\\nBorrowing Books:\")\n",
        "book1.borrow_book()  # Borrowing book1\n",
        "book2.borrow_book()  # Borrowing book2\n",
        "\n",
        "# Attempting to borrow a book that is already borrowed\n",
        "book1.borrow_book()  # Trying to borrow book1 again\n",
        "\n",
        "# Displaying book information after borrowing\n",
        "print(\"\\nState of Books After Borrowing:\")\n",
        "book1.display_info()\n",
        "book2.display_info()\n",
        "\n",
        "# Returning books\n",
        "print(\"\\nReturning Books:\")\n",
        "book1.return_book()  # Returning book1\n",
        "book2.return_book()  # Returning book2\n",
        "\n",
        "# Displaying book information after returning\n",
        "print(\"\\nState of Books After Returning:\")\n",
        "book1.display_info()\n",
        "book2.display_info()\n"
      ],
      "metadata": {
        "colab": {
          "base_uri": "https://localhost:8080/"
        },
        "id": "zPpHkr_SAt1s",
        "outputId": "d0d897a8-8af9-4a61-8815-3fcfbd3ed40a"
      },
      "execution_count": 8,
      "outputs": [
        {
          "output_type": "stream",
          "name": "stdout",
          "text": [
            "Initial State of Books:\n",
            "Book Name: The Great Gatsby\n",
            "Author: F. Scott Fitzgerald\n",
            "Availability Status: Available\n",
            "Book Name: To Kill a Mockingbird\n",
            "Author: Harper Lee\n",
            "Availability Status: Available\n",
            "\n",
            "Borrowing Books:\n",
            "The book 'The Great Gatsby' by F. Scott Fitzgerald has been borrowed.\n",
            "The book 'To Kill a Mockingbird' by Harper Lee has been borrowed.\n",
            "The book 'The Great Gatsby' by F. Scott Fitzgerald is already borrowed and not available.\n",
            "\n",
            "State of Books After Borrowing:\n",
            "Book Name: The Great Gatsby\n",
            "Author: F. Scott Fitzgerald\n",
            "Availability Status: Not Available\n",
            "Book Name: To Kill a Mockingbird\n",
            "Author: Harper Lee\n",
            "Availability Status: Not Available\n",
            "\n",
            "Returning Books:\n",
            "The book 'The Great Gatsby' by F. Scott Fitzgerald has been returned and is now available.\n",
            "The book 'To Kill a Mockingbird' by Harper Lee has been returned and is now available.\n",
            "\n",
            "State of Books After Returning:\n",
            "Book Name: The Great Gatsby\n",
            "Author: F. Scott Fitzgerald\n",
            "Availability Status: Available\n",
            "Book Name: To Kill a Mockingbird\n",
            "Author: Harper Lee\n",
            "Availability Status: Available\n"
          ]
        }
      ]
    },
    {
      "cell_type": "markdown",
      "source": [
        "Question 4.Create a simple banking system using object-oriented concepts in Python. Design classes representing different types of bank accounts such as savings and checking. Implement methods for deposit, withdraw, and balance inquiry. Utilize inheritance to manage different account types efficiently.\n",
        "\n",
        "Tasks:\n",
        "\n",
        "1. Define base class(es) for bank accounts with common attributes and methods.\n",
        "\n",
        "2. Implement subclasses for specific account types (e.g., SavingsAccount, CheckingAccount).\n",
        "\n",
        "3. Provide methods for deposit, withdraw, and balance inquiry in each subclass.\n"
      ],
      "metadata": {
        "id": "Vw9-ix7XCAFJ"
      }
    },
    {
      "cell_type": "code",
      "source": [
        "# Base class for BankAccount\n",
        "class BankAccount:\n",
        "    def __init__(self, account_number, account_holder, balance=0.0):\n",
        "        self.account_number = account_number\n",
        "        self.account_holder = account_holder\n",
        "        self.balance = balance\n",
        "\n",
        "    # Method to deposit money into the account\n",
        "    def deposit(self, amount):\n",
        "        if amount > 0:\n",
        "            self.balance += amount\n",
        "            print(f\"Deposited ${amount:.2f}. New balance is ${self.balance:.2f}.\")\n",
        "        else:\n",
        "            print(\"Deposit amount must be positive.\")\n",
        "\n",
        "    # Method to withdraw money from the account\n",
        "    def withdraw(self, amount):\n",
        "        if amount > 0:\n",
        "            if self.balance >= amount:\n",
        "                self.balance -= amount\n",
        "                print(f\"Withdrew ${amount:.2f}. New balance is ${self.balance:.2f}.\")\n",
        "            else:\n",
        "                print(\"Insufficient funds.\")\n",
        "        else:\n",
        "            print(\"Withdrawal amount must be positive.\")\n",
        "\n",
        "    # Method to get the current balance\n",
        "    def get_balance(self):\n",
        "        print(f\"The current balance is ${self.balance:.2f}.\")\n",
        "        return self.balance\n",
        "\n",
        "# Subclass for SavingsAccount\n",
        "class SavingsAccount(BankAccount):\n",
        "    def __init__(self, account_number, account_holder, balance=0.0, interest_rate=0.02):\n",
        "        super().__init__(account_number, account_holder, balance)\n",
        "        self.interest_rate = interest_rate\n",
        "\n",
        "    # Method to apply interest to the savings account\n",
        "    def apply_interest(self):\n",
        "        interest = self.balance * self.interest_rate\n",
        "        self.balance += interest\n",
        "        print(f\"Interest of ${interest:.2f} applied. New balance is ${self.balance:.2f}.\")\n",
        "\n",
        "# Subclass for CheckingAccount\n",
        "class CheckingAccount(BankAccount):\n",
        "    def __init__(self, account_number, account_holder, balance=0.0, overdraft_limit=500.0):\n",
        "        super().__init__(account_number, account_holder, balance)\n",
        "        self.overdraft_limit = overdraft_limit\n",
        "\n",
        "    # Override the withdraw method to include overdraft protection\n",
        "    def withdraw(self, amount):\n",
        "        if amount > 0:\n",
        "            if self.balance + self.overdraft_limit >= amount:\n",
        "                self.balance -= amount\n",
        "                print(f\"Withdrew ${amount:.2f}. New balance is ${self.balance:.2f}.\")\n",
        "            else:\n",
        "                print(\"Insufficient funds, including overdraft limit.\")\n",
        "        else:\n",
        "            print(\"Withdrawal amount must be positive.\")\n",
        "\n",
        "# Testing the Banking System\n",
        "\n",
        "# Creating instances of SavingsAccount and CheckingAccount\n",
        "savings_account = SavingsAccount(account_number=\"SAV123\", account_holder=\"Avinash Panchal\", balance=1000.0)\n",
        "checking_account = CheckingAccount(account_number=\"CHK456\", account_holder=\"Rohit Varma\", balance=500.0)\n",
        "\n",
        "# Performing operations on SavingsAccount\n",
        "print(\"\\n--- Savings Account Operations ---\")\n",
        "savings_account.deposit(500)        # Deposit money\n",
        "savings_account.withdraw(200)       # Withdraw money\n",
        "savings_account.apply_interest()    # Apply interest\n",
        "savings_account.get_balance()       # Check balance\n",
        "\n",
        "# Performing operations on CheckingAccount\n",
        "print(\"\\n--- Checking Account Operations ---\")\n",
        "checking_account.deposit(300)       # Deposit money\n",
        "checking_account.withdraw(1000)     # Withdraw money, should use overdraft\n",
        "checking_account.get_balance()      # Check balance\n",
        "checking_account.withdraw(1000)     # Withdraw more money, should exceed overdraft limit\n",
        "\n",
        "# Checking final balances\n",
        "print(\"\\n--- Final Balances ---\")\n",
        "savings_account.get_balance()\n",
        "checking_account.get_balance()\n"
      ],
      "metadata": {
        "colab": {
          "base_uri": "https://localhost:8080/"
        },
        "id": "IC9iGD7ACOSu",
        "outputId": "5226a048-d115-4006-f7d4-f5d7c002d948"
      },
      "execution_count": 11,
      "outputs": [
        {
          "output_type": "stream",
          "name": "stdout",
          "text": [
            "\n",
            "--- Savings Account Operations ---\n",
            "Deposited $500.00. New balance is $1500.00.\n",
            "Withdrew $200.00. New balance is $1300.00.\n",
            "Interest of $26.00 applied. New balance is $1326.00.\n",
            "The current balance is $1326.00.\n",
            "\n",
            "--- Checking Account Operations ---\n",
            "Deposited $300.00. New balance is $800.00.\n",
            "Withdrew $1000.00. New balance is $-200.00.\n",
            "The current balance is $-200.00.\n",
            "Insufficient funds, including overdraft limit.\n",
            "\n",
            "--- Final Balances ---\n",
            "The current balance is $1326.00.\n",
            "The current balance is $-200.00.\n"
          ]
        },
        {
          "output_type": "execute_result",
          "data": {
            "text/plain": [
              "-200.0"
            ]
          },
          "metadata": {},
          "execution_count": 11
        }
      ]
    },
    {
      "cell_type": "markdown",
      "source": [
        "\n",
        "Question 5. Write a Python program that models different animals and their sounds. Design a base class called \"Animal with a method make_sound(). Create subclasses like 'Dog and \"Cat' that override the make_sound() method to produce appropriate sounds.\n",
        "\n",
        "Tasks:\n",
        "\n",
        "1. Define the 'Animal class with a method 'make_sound()\".\n",
        "\n",
        "2. Create subclasses \"Dog' and 'Cat' that override the make_sound() method.\n",
        "\n",
        "3. Implement the sound generation logic for each subclass.\n",
        "\n",
        "4. Test the program by creating instances of 'Dog' and 'Cat and calling the \"make_sound() method.\n"
      ],
      "metadata": {
        "id": "VyZxEthqDNGi"
      }
    },
    {
      "cell_type": "code",
      "source": [
        "# Base class for Animal\n",
        "class Animal:\n",
        "    def make_sound(self):\n",
        "        print(\"This animal makes a sound.\")\n",
        "\n",
        "# Subclass for Dog\n",
        "class Dog(Animal):\n",
        "    def make_sound(self):\n",
        "        print(\"Woof! Woof!\")\n",
        "\n",
        "# Subclass for Cat\n",
        "class Cat(Animal):\n",
        "    def make_sound(self):\n",
        "        print(\"Meow! Meow!\")\n",
        "\n",
        "# Testing the Animal sound system\n",
        "\n",
        "# Creating instances of Dog and Cat\n",
        "dog = Dog()\n",
        "cat = Cat()\n",
        "\n",
        "# Calling the make_sound method for each animal\n",
        "print(\"--- Dog Sound ---\")\n",
        "dog.make_sound()\n",
        "\n",
        "print(\"--- Cat Sound ---\")\n",
        "cat.make_sound()"
      ],
      "metadata": {
        "colab": {
          "base_uri": "https://localhost:8080/"
        },
        "id": "DMhx61XkDZ-f",
        "outputId": "f1da05c8-6a82-4148-a861-513eddbc90f7"
      },
      "execution_count": 12,
      "outputs": [
        {
          "output_type": "stream",
          "name": "stdout",
          "text": [
            "--- Dog Sound ---\n",
            "Woof! Woof!\n",
            "--- Cat Sound ---\n",
            "Meow! Meow!\n"
          ]
        }
      ]
    },
    {
      "cell_type": "markdown",
      "source": [
        "6.Write a code for Restaurant Management System Using OOPS:\n",
        "\n",
        "Create a Menultem class that has attributes such as name, description, price, and category. Implement methods to add a new menu item, update menu item information, and remove a menu item from the menu.\n",
        "\n",
        "Use encapsulation to hide the menu item's unique identification number. Inherit from the Menultem class to create a Fooditem class and a Beverageltem class, each with their own specific attributes and methods.\n"
      ],
      "metadata": {
        "id": "qL0-YROmD0UK"
      }
    },
    {
      "cell_type": "code",
      "source": [
        "class MenuItem:\n",
        "    def __init__(self, name, description, price, category):\n",
        "        self.__id = None  # Encapsulated unique ID\n",
        "        self.name = name\n",
        "        self.description = description\n",
        "        self.price = price\n",
        "        self.category = category\n",
        "\n",
        "    # Method to set the unique ID (could be used when creating a new item)\n",
        "    def set_id(self, item_id):\n",
        "        self.__id = item_id\n",
        "\n",
        "    # Method to get the unique ID\n",
        "    def get_id(self):\n",
        "        return self.__id\n",
        "\n",
        "    # Method to update menu item information\n",
        "    def update_item(self, name=None, description=None, price=None, category=None):\n",
        "        if name:\n",
        "            self.name = name\n",
        "        if description:\n",
        "            self.description = description\n",
        "        if price is not None:\n",
        "            self.price = price\n",
        "        if category:\n",
        "            self.category = category\n",
        "\n",
        "    # Method to display menu item information\n",
        "    def display_item(self):\n",
        "        print(f\"ID: {self.__id}\")\n",
        "        print(f\"Name: {self.name}\")\n",
        "        print(f\"Description: {self.description}\")\n",
        "        print(f\"Price: ${self.price:.2f}\")\n",
        "        print(f\"Category: {self.category}\")\n",
        "\n",
        "class FoodItem(MenuItem):\n",
        "    def __init__(self, name, description, price, food_type):\n",
        "        super().__init__(name, description, price, category=\"Food\")\n",
        "        self.food_type = food_type\n",
        "\n",
        "    # Method to update food item specific attributes\n",
        "    def update_food_item(self, name=None, description=None, price=None, food_type=None):\n",
        "        self.update_item(name, description, price, \"Food\")\n",
        "        if food_type:\n",
        "            self.food_type = food_type\n",
        "\n",
        "    # Method to display food item information\n",
        "    def display_item(self):\n",
        "        super().display_item()\n",
        "        print(f\"Food Type: {self.food_type}\")\n",
        "\n",
        "class BeverageItem(MenuItem):\n",
        "    def __init__(self, name, description, price, beverage_type):\n",
        "        super().__init__(name, description, price, category=\"Beverage\")\n",
        "        self.beverage_type = beverage_type\n",
        "\n",
        "    # Method to update beverage item specific attributes\n",
        "    def update_beverage_item(self, name=None, description=None, price=None, beverage_type=None):\n",
        "        self.update_item(name, description, price, \"Beverage\")\n",
        "        if beverage_type:\n",
        "            self.beverage_type = beverage_type\n",
        "\n",
        "    # Method to display beverage item information\n",
        "    def display_item(self):\n",
        "        super().display_item()\n",
        "        print(f\"Beverage Type: {self.beverage_type}\")\n",
        "\n",
        "# Testing the Restaurant Management System\n",
        "\n",
        "# Creating instances of FoodItem and BeverageItem\n",
        "pizza = FoodItem(name=\"Margherita Pizza\", description=\"Classic pizza with tomato and mozzarella\", price=9.99, food_type=\"Pizza\")\n",
        "coffee = BeverageItem(name=\"Latte\", description=\"Creamy latte with a hint of vanilla\", price=4.50, beverage_type=\"Coffee\")\n",
        "\n",
        "# Setting unique IDs\n",
        "pizza.set_id(1)\n",
        "coffee.set_id(2)\n",
        "\n",
        "# Displaying menu items\n",
        "print(\"--- Menu Items ---\")\n",
        "pizza.display_item()\n",
        "print()\n",
        "coffee.display_item()\n",
        "\n",
        "# Updating menu items\n",
        "print(\"\\n--- Updating Menu Items ---\")\n",
        "pizza.update_food_item(price=10.49, food_type=\"Veg Pizza\")\n",
        "coffee.update_beverage_item(description=\"Creamy latte with a hint of caramel\")\n",
        "\n",
        "# Displaying updated menu items\n",
        "print(\"\\n--- Updated Menu Items ---\")\n",
        "pizza.display_item()\n",
        "print()\n",
        "coffee.display_item()"
      ],
      "metadata": {
        "colab": {
          "base_uri": "https://localhost:8080/"
        },
        "id": "McMx9Q6PEBWs",
        "outputId": "7c91dc5c-6496-408d-ed2d-0291348cda13"
      },
      "execution_count": 13,
      "outputs": [
        {
          "output_type": "stream",
          "name": "stdout",
          "text": [
            "--- Menu Items ---\n",
            "ID: 1\n",
            "Name: Margherita Pizza\n",
            "Description: Classic pizza with tomato and mozzarella\n",
            "Price: $9.99\n",
            "Category: Food\n",
            "Food Type: Pizza\n",
            "\n",
            "ID: 2\n",
            "Name: Latte\n",
            "Description: Creamy latte with a hint of vanilla\n",
            "Price: $4.50\n",
            "Category: Beverage\n",
            "Beverage Type: Coffee\n",
            "\n",
            "--- Updating Menu Items ---\n",
            "\n",
            "--- Updated Menu Items ---\n",
            "ID: 1\n",
            "Name: Margherita Pizza\n",
            "Description: Classic pizza with tomato and mozzarella\n",
            "Price: $10.49\n",
            "Category: Food\n",
            "Food Type: Veg Pizza\n",
            "\n",
            "ID: 2\n",
            "Name: Latte\n",
            "Description: Creamy latte with a hint of caramel\n",
            "Price: $4.50\n",
            "Category: Beverage\n",
            "Beverage Type: Coffee\n"
          ]
        }
      ]
    },
    {
      "cell_type": "markdown",
      "source": [
        "Question 7. Write a code for Hotel Management System using OOPS:\n",
        "\n",
        "Create a Room class that has attributes such as room number, room type, rate, and availability (private).\n",
        "\n",
        "Implement methods to book a room, check in a guest, and check out a guest.\n",
        "\n",
        "Use encapsulation to hide the room's unique identification number.\n",
        "\n",
        "Inherit from the Room class to create a SuiteRoom class and a Standard Room class, each with their own\n",
        "\n",
        "specific attributes and methods.\n"
      ],
      "metadata": {
        "id": "WV8hujXfEleZ"
      }
    },
    {
      "cell_type": "code",
      "source": [
        "class Room:\n",
        "    def __init__(self, room_number, room_type, rate):\n",
        "        self.__id = None  # Encapsulated unique ID\n",
        "        self.room_number = room_number\n",
        "        self.room_type = room_type\n",
        "        self.rate = rate\n",
        "        self.__availability = True  # True indicates room is available\n",
        "\n",
        "    # Method to set the unique ID (could be used when creating a new room)\n",
        "    def set_id(self, room_id):\n",
        "        self.__id = room_id\n",
        "\n",
        "    # Method to get the unique ID\n",
        "    def get_id(self):\n",
        "        return self.__id\n",
        "\n",
        "    # Method to book a room\n",
        "    def book_room(self):\n",
        "        if self.__availability:\n",
        "            self.__availability = False\n",
        "            print(f\"Room {self.room_number} has been booked.\")\n",
        "        else:\n",
        "            print(f\"Room {self.room_number} is not available.\")\n",
        "\n",
        "    # Method to check in a guest\n",
        "    def check_in(self):\n",
        "        if not self.__availability:\n",
        "            print(f\"Guest has checked into room {self.room_number}.\")\n",
        "        else:\n",
        "            print(f\"Room {self.room_number} is available. No guest to check in.\")\n",
        "\n",
        "    # Method to check out a guest\n",
        "    def check_out(self):\n",
        "        if not self.__availability:\n",
        "            self.__availability = True\n",
        "            print(f\"Guest has checked out of room {self.room_number}.\")\n",
        "        else:\n",
        "            print(f\"Room {self.room_number} is already available. No guest to check out.\")\n",
        "\n",
        "    # Method to display room information\n",
        "    def display_info(self):\n",
        "        availability_status = \"Available\" if self.__availability else \"Occupied\"\n",
        "        print(f\"Room Number: {self.room_number}\")\n",
        "        print(f\"Room Type: {self.room_type}\")\n",
        "        print(f\"Rate: ${self.rate:.2f}\")\n",
        "        print(f\"Availability: {availability_status}\")\n",
        "\n",
        "class SuiteRoom(Room):\n",
        "    def __init__(self, room_number, rate, suite_features):\n",
        "        super().__init__(room_number, room_type=\"Suite\", rate=rate)\n",
        "        self.suite_features = suite_features\n",
        "\n",
        "    # Method to display suite room information\n",
        "    def display_info(self):\n",
        "        super().display_info()\n",
        "        print(f\"Suite Features: {self.suite_features}\")\n",
        "\n",
        "class StandardRoom(Room):\n",
        "    def __init__(self, room_number, rate, standard_features):\n",
        "        super().__init__(room_number, room_type=\"Standard\", rate=rate)\n",
        "        self.standard_features = standard_features\n",
        "\n",
        "    # Method to display standard room information\n",
        "    def display_info(self):\n",
        "        super().display_info()\n",
        "        print(f\"Standard Features: {self.standard_features}\")\n",
        "\n",
        "# Testing the Hotel Management System\n",
        "\n",
        "# Creating instances of SuiteRoom and StandardRoom\n",
        "suite = SuiteRoom(room_number=\"101\", rate=250.0, suite_features=\"Ocean View, King Bed\")\n",
        "standard = StandardRoom(room_number=\"202\", rate=100.0, standard_features=\"Queen Bed, City View\")\n",
        "\n",
        "# Display room information\n",
        "print(\"--- Suite Room Info ---\")\n",
        "suite.display_info()\n",
        "\n",
        "print(\"\\n--- Standard Room Info ---\")\n",
        "standard.display_info()\n",
        "\n",
        "# Booking and checking in/out rooms\n",
        "print(\"\\n--- Booking and Checking In/Out ---\")\n",
        "suite.book_room()\n",
        "suite.check_in()\n",
        "suite.check_out()\n",
        "\n",
        "standard.book_room()\n",
        "standard.check_in()\n",
        "standard.check_out()\n",
        "\n",
        "# Checking room availability after operations\n",
        "print(\"\\n--- Final Room Status ---\")\n",
        "suite.display_info()\n",
        "standard.display_info()\n"
      ],
      "metadata": {
        "colab": {
          "base_uri": "https://localhost:8080/"
        },
        "id": "rEfTN2XKFGF7",
        "outputId": "e709c4bb-f47f-450d-fa17-0b980eec20b0"
      },
      "execution_count": 14,
      "outputs": [
        {
          "output_type": "stream",
          "name": "stdout",
          "text": [
            "--- Suite Room Info ---\n",
            "Room Number: 101\n",
            "Room Type: Suite\n",
            "Rate: $250.00\n",
            "Availability: Available\n",
            "Suite Features: Ocean View, King Bed\n",
            "\n",
            "--- Standard Room Info ---\n",
            "Room Number: 202\n",
            "Room Type: Standard\n",
            "Rate: $100.00\n",
            "Availability: Available\n",
            "Standard Features: Queen Bed, City View\n",
            "\n",
            "--- Booking and Checking In/Out ---\n",
            "Room 101 has been booked.\n",
            "Guest has checked into room 101.\n",
            "Guest has checked out of room 101.\n",
            "Room 202 has been booked.\n",
            "Guest has checked into room 202.\n",
            "Guest has checked out of room 202.\n",
            "\n",
            "--- Final Room Status ---\n",
            "Room Number: 101\n",
            "Room Type: Suite\n",
            "Rate: $250.00\n",
            "Availability: Available\n",
            "Suite Features: Ocean View, King Bed\n",
            "Room Number: 202\n",
            "Room Type: Standard\n",
            "Rate: $100.00\n",
            "Availability: Available\n",
            "Standard Features: Queen Bed, City View\n"
          ]
        }
      ]
    },
    {
      "cell_type": "markdown",
      "source": [
        "\n",
        "Question 8.Write a code for Fitness Club Management System using OOPS:\n",
        "\n",
        "Create a Member class that has attributes such as name, age, membership type, and membership status (private).\n",
        "\n",
        "Implement methods to register a new member, renew a membership, and cancel a membership.\n",
        "\n",
        "Use encapsulation to hide the member's unique identification number.\n",
        "\n",
        "Inherit from the Member class to create a FamilyMember class and an IndividualMember class, each with their own specific attributes and methods.\n"
      ],
      "metadata": {
        "id": "BvOnkLSYFMqE"
      }
    },
    {
      "cell_type": "code",
      "source": [
        "class Member:\n",
        "    def __init__(self, name, age, membership_type):\n",
        "        self.__id = None  # Encapsulated unique ID\n",
        "        self.name = name\n",
        "        self.age = age\n",
        "        self.membership_type = membership_type\n",
        "        self.__membership_status = \"Active\"  # Default membership status\n",
        "\n",
        "    # Method to set the unique ID (could be used when creating a new member)\n",
        "    def set_id(self, member_id):\n",
        "        self.__id = member_id\n",
        "\n",
        "    # Method to get the unique ID\n",
        "    def get_id(self):\n",
        "        return self.__id\n",
        "\n",
        "    # Method to register a new member\n",
        "    def register_member(self):\n",
        "        self.__membership_status = \"Active\"\n",
        "        print(f\"Member {self.name} has been registered with {self.membership_type} membership.\")\n",
        "\n",
        "    # Method to renew membership\n",
        "    def renew_membership(self):\n",
        "        if self.__membership_status == \"Active\":\n",
        "            print(f\"Membership for {self.name} is already active.\")\n",
        "        else:\n",
        "            self.__membership_status = \"Active\"\n",
        "            print(f\"Membership for {self.name} has been renewed.\")\n",
        "\n",
        "    # Method to cancel membership\n",
        "    def cancel_membership(self):\n",
        "        if self.__membership_status == \"Active\":\n",
        "            self.__membership_status = \"Cancelled\"\n",
        "            print(f\"Membership for {self.name} has been cancelled.\")\n",
        "        else:\n",
        "            print(f\"Membership for {self.name} is not active.\")\n",
        "\n",
        "    # Method to display member information\n",
        "    def display_info(self):\n",
        "        print(f\"ID: {self.__id}\")\n",
        "        print(f\"Name: {self.name}\")\n",
        "        print(f\"Age: {self.age}\")\n",
        "        print(f\"Membership Type: {self.membership_type}\")\n",
        "        print(f\"Membership Status: {self.__membership_status}\")\n",
        "\n",
        "class FamilyMember(Member):\n",
        "    def __init__(self, name, age, membership_type, family_size):\n",
        "        super().__init__(name, age, membership_type)\n",
        "        self.family_size = family_size\n",
        "\n",
        "    # Method to update family member details\n",
        "    def update_family_size(self, new_size):\n",
        "        self.family_size = new_size\n",
        "        print(f\"Family size updated to {self.family_size} for {self.name}.\")\n",
        "\n",
        "    # Method to display family member information\n",
        "    def display_info(self):\n",
        "        super().display_info()\n",
        "        print(f\"Family Size: {self.family_size}\")\n",
        "\n",
        "class IndividualMember(Member):\n",
        "    def __init__(self, name, age, membership_type, personal_trainer):\n",
        "        super().__init__(name, age, membership_type)\n",
        "        self.personal_trainer = personal_trainer\n",
        "\n",
        "    # Method to update personal trainer\n",
        "    def update_trainer(self, new_trainer):\n",
        "        self.personal_trainer = new_trainer\n",
        "        print(f\"Personal trainer updated to {self.personal_trainer} for {self.name}.\")\n",
        "\n",
        "    # Method to display individual member information\n",
        "    def display_info(self):\n",
        "        super().display_info()\n",
        "        print(f\"Personal Trainer: {self.personal_trainer}\")\n",
        "\n",
        "# Testing the Fitness Club Management System\n",
        "\n",
        "# Creating instances of FamilyMember and IndividualMember\n",
        "family_member = FamilyMember(name=\"John Doe\", age=35, membership_type=\"Family\", family_size=4)\n",
        "individual_member = IndividualMember(name=\"Jane Smith\", age=28, membership_type=\"Individual\", personal_trainer=\"Mike Johnson\")\n",
        "\n",
        "# Registering members\n",
        "print(\"--- Registering Members ---\")\n",
        "family_member.register_member()\n",
        "individual_member.register_member()\n",
        "\n",
        "# Displaying initial information\n",
        "print(\"\\n--- Family Member Info ---\")\n",
        "family_member.display_info()\n",
        "\n",
        "print(\"\\n--- Individual Member Info ---\")\n",
        "individual_member.display_info()\n",
        "\n",
        "# Renewing and canceling memberships\n",
        "print(\"\\n--- Renewing and Canceling Memberships ---\")\n",
        "family_member.renew_membership()\n",
        "individual_member.cancel_membership()\n",
        "\n",
        "# Updating member details\n",
        "print(\"\\n--- Updating Member Details ---\")\n",
        "family_member.update_family_size(5)\n",
        "individual_member.update_trainer(\"Sarah Lee\")\n",
        "\n",
        "# Displaying updated information\n",
        "print(\"\\n--- Updated Family Member Info ---\")\n",
        "family_member.display_info()\n",
        "\n",
        "print(\"\\n--- Updated Individual Member Info ---\")\n",
        "individual_member.display_info()\n"
      ],
      "metadata": {
        "colab": {
          "base_uri": "https://localhost:8080/"
        },
        "id": "w07JXT3uFYLX",
        "outputId": "29813965-10d2-4d5f-bb9b-67671393982d"
      },
      "execution_count": 15,
      "outputs": [
        {
          "output_type": "stream",
          "name": "stdout",
          "text": [
            "--- Registering Members ---\n",
            "Member John Doe has been registered with Family membership.\n",
            "Member Jane Smith has been registered with Individual membership.\n",
            "\n",
            "--- Family Member Info ---\n",
            "ID: None\n",
            "Name: John Doe\n",
            "Age: 35\n",
            "Membership Type: Family\n",
            "Membership Status: Active\n",
            "Family Size: 4\n",
            "\n",
            "--- Individual Member Info ---\n",
            "ID: None\n",
            "Name: Jane Smith\n",
            "Age: 28\n",
            "Membership Type: Individual\n",
            "Membership Status: Active\n",
            "Personal Trainer: Mike Johnson\n",
            "\n",
            "--- Renewing and Canceling Memberships ---\n",
            "Membership for John Doe is already active.\n",
            "Membership for Jane Smith has been cancelled.\n",
            "\n",
            "--- Updating Member Details ---\n",
            "Family size updated to 5 for John Doe.\n",
            "Personal trainer updated to Sarah Lee for Jane Smith.\n",
            "\n",
            "--- Updated Family Member Info ---\n",
            "ID: None\n",
            "Name: John Doe\n",
            "Age: 35\n",
            "Membership Type: Family\n",
            "Membership Status: Active\n",
            "Family Size: 5\n",
            "\n",
            "--- Updated Individual Member Info ---\n",
            "ID: None\n",
            "Name: Jane Smith\n",
            "Age: 28\n",
            "Membership Type: Individual\n",
            "Membership Status: Cancelled\n",
            "Personal Trainer: Sarah Lee\n"
          ]
        }
      ]
    },
    {
      "cell_type": "markdown",
      "source": [
        "Question 9.Write a code for Event Management System using OOPS:\n",
        "\n",
        "Create an Event class that has attributes such as name, date, time, location, and list of attendees (private).\n",
        "\n",
        "Implement methods to create a new event, add or remove attendees, and get the total number of attendees.\n",
        "\n",
        "Use encapsulation to hide the event's unique identification number.\n",
        "\n",
        "Inherit from the Event class to create a PrivateEvent class and a PublicEvent class, each with their own specific attributes and methods.\n"
      ],
      "metadata": {
        "id": "Dzc5ZoweFvBA"
      }
    },
    {
      "cell_type": "code",
      "source": [
        "class Event:\n",
        "    def __init__(self, name, date, time, location):\n",
        "        self.__id = None  # Encapsulated unique ID\n",
        "        self.name = name\n",
        "        self.date = date\n",
        "        self.time = time\n",
        "        self.location = location\n",
        "        self.__attendees = []  # Private list of attendees\n",
        "\n",
        "    # Method to set the unique ID (could be used when creating a new event)\n",
        "    def set_id(self, event_id):\n",
        "        self.__id = event_id\n",
        "\n",
        "    # Method to get the unique ID\n",
        "    def get_id(self):\n",
        "        return self.__id\n",
        "\n",
        "    # Method to add an attendee\n",
        "    def add_attendee(self, attendee):\n",
        "        if attendee not in self.__attendees:\n",
        "            self.__attendees.append(attendee)\n",
        "            print(f\"Attendee {attendee} added.\")\n",
        "        else:\n",
        "            print(f\"Attendee {attendee} is already on the list.\")\n",
        "\n",
        "    # Method to remove an attendee\n",
        "    def remove_attendee(self, attendee):\n",
        "        if attendee in self.__attendees:\n",
        "            self.__attendees.remove(attendee)\n",
        "            print(f\"Attendee {attendee} removed.\")\n",
        "        else:\n",
        "            print(f\"Attendee {attendee} was not found on the list.\")\n",
        "\n",
        "    # Method to get the total number of attendees\n",
        "    def get_total_attendees(self):\n",
        "        return len(self.__attendees)\n",
        "\n",
        "    # Method to display event details\n",
        "    def display_event_details(self):\n",
        "        print(f\"Event ID: {self.__id}\")\n",
        "        print(f\"Name: {self.name}\")\n",
        "        print(f\"Date: {self.date}\")\n",
        "        print(f\"Time: {self.time}\")\n",
        "        print(f\"Location: {self.location}\")\n",
        "        print(f\"Total Attendees: {self.get_total_attendees()}\")\n",
        "\n",
        "class PrivateEvent(Event):\n",
        "    def __init__(self, name, date, time, location, host):\n",
        "        super().__init__(name, date, time, location)\n",
        "        self.host = host\n",
        "\n",
        "    # Method to display private event details\n",
        "    def display_event_details(self):\n",
        "        super().display_event_details()\n",
        "        print(f\"Host: {self.host}\")\n",
        "\n",
        "class PublicEvent(Event):\n",
        "    def __init__(self, name, date, time, location, entry_fee):\n",
        "        super().__init__(name, date, time, location)\n",
        "        self.entry_fee = entry_fee\n",
        "\n",
        "    # Method to display public event details\n",
        "    def display_event_details(self):\n",
        "        super().display_event_details()\n",
        "        print(f\"Entry Fee: ${self.entry_fee:.2f}\")\n",
        "\n",
        "# Testing the Event Management System\n",
        "\n",
        "# Creating instances of PrivateEvent and PublicEvent\n",
        "private_event = PrivateEvent(name=\"VIP Gala\", date=\"2024-09-15\", time=\"18:00\", location=\"Ritz Hotel\", host=\"John Smith\")\n",
        "public_event = PublicEvent(name=\"Community Fair\", date=\"2024-09-20\", time=\"10:00\", location=\"Central Park\", entry_fee=5.00)\n",
        "\n",
        "# Registering unique IDs\n",
        "private_event.set_id(101)\n",
        "public_event.set_id(202)\n",
        "\n",
        "# Adding and removing attendees\n",
        "print(\"--- Private Event Attendees Management ---\")\n",
        "private_event.add_attendee(\"Alice Johnson\")\n",
        "private_event.add_attendee(\"Bob Brown\")\n",
        "private_event.remove_attendee(\"Alice Johnson\")\n",
        "\n",
        "print(\"\\n--- Public Event Attendees Management ---\")\n",
        "public_event.add_attendee(\"Charlie Davis\")\n",
        "public_event.add_attendee(\"Diana Evans\")\n",
        "public_event.remove_attendee(\"Charlie Davis\")\n",
        "\n",
        "# Displaying event details\n",
        "print(\"\\n--- Private Event Details ---\")\n",
        "private_event.display_event_details()\n",
        "\n",
        "print(\"\\n--- Public Event Details ---\")\n",
        "public_event.display_event_details()"
      ],
      "metadata": {
        "colab": {
          "base_uri": "https://localhost:8080/"
        },
        "id": "d0lSB1gUF5c5",
        "outputId": "715a7498-09a8-4f12-c830-1e3fcc2bb5ae"
      },
      "execution_count": 16,
      "outputs": [
        {
          "output_type": "stream",
          "name": "stdout",
          "text": [
            "--- Private Event Attendees Management ---\n",
            "Attendee Alice Johnson added.\n",
            "Attendee Bob Brown added.\n",
            "Attendee Alice Johnson removed.\n",
            "\n",
            "--- Public Event Attendees Management ---\n",
            "Attendee Charlie Davis added.\n",
            "Attendee Diana Evans added.\n",
            "Attendee Charlie Davis removed.\n",
            "\n",
            "--- Private Event Details ---\n",
            "Event ID: 101\n",
            "Name: VIP Gala\n",
            "Date: 2024-09-15\n",
            "Time: 18:00\n",
            "Location: Ritz Hotel\n",
            "Total Attendees: 1\n",
            "Host: John Smith\n",
            "\n",
            "--- Public Event Details ---\n",
            "Event ID: 202\n",
            "Name: Community Fair\n",
            "Date: 2024-09-20\n",
            "Time: 10:00\n",
            "Location: Central Park\n",
            "Total Attendees: 1\n",
            "Entry Fee: $5.00\n"
          ]
        }
      ]
    },
    {
      "cell_type": "markdown",
      "source": [
        "Question 10.Write a code for Airline Reservation System using OOPS:\n",
        "\n",
        "Create a Flight class that has attributes such as flight number, departure and arrival airports, departure and arrival times, and available seats (private).\n",
        "\n",
        "Implement methods to book a seat, cancel a reservation, and get the remaining available seats.\n",
        "\n",
        "Use encapsulation to hide the flight's unique identification number.\n",
        "\n",
        "Inherit from the Flight class to create a DomesticFlight class and an International Flight class, each with their own specific attributes and methods\n"
      ],
      "metadata": {
        "id": "XBOgH0aBGMSA"
      }
    },
    {
      "cell_type": "code",
      "source": [
        "class Flight:\n",
        "    def __init__(self, flight_number, departure_airport, arrival_airport, departure_time, arrival_time, total_seats):\n",
        "        self.__id = None  # Encapsulated unique ID\n",
        "        self.flight_number = flight_number\n",
        "        self.departure_airport = departure_airport\n",
        "        self.arrival_airport = arrival_airport\n",
        "        self.departure_time = departure_time\n",
        "        self.arrival_time = arrival_time\n",
        "        self.__available_seats = total_seats  # Private attribute for available seats\n",
        "\n",
        "    # Method to set the unique ID (could be used when creating a new flight)\n",
        "    def set_id(self, flight_id):\n",
        "        self.__id = flight_id\n",
        "\n",
        "    # Method to get the unique ID\n",
        "    def get_id(self):\n",
        "        return self.__id\n",
        "\n",
        "    # Method to book a seat\n",
        "    def book_seat(self):\n",
        "        if self.__available_seats > 0:\n",
        "            self.__available_seats -= 1\n",
        "            print(f\"Seat booked successfully. Remaining seats: {self.__available_seats}.\")\n",
        "        else:\n",
        "            print(\"No seats available to book.\")\n",
        "\n",
        "    # Method to cancel a reservation\n",
        "    def cancel_reservation(self):\n",
        "        self.__available_seats += 1\n",
        "        print(f\"Reservation canceled. Remaining seats: {self.__available_seats}.\")\n",
        "\n",
        "    # Method to get the remaining available seats\n",
        "    def get_remaining_seats(self):\n",
        "        return self.__available_seats\n",
        "\n",
        "    # Method to display flight details\n",
        "    def display_flight_details(self):\n",
        "        print(f\"Flight Number: {self.flight_number}\")\n",
        "        print(f\"Departure Airport: {self.departure_airport}\")\n",
        "        print(f\"Arrival Airport: {self.arrival_airport}\")\n",
        "        print(f\"Departure Time: {self.departure_time}\")\n",
        "        print(f\"Arrival Time: {self.arrival_time}\")\n",
        "        print(f\"Available Seats: {self.__available_seats}\")\n",
        "\n",
        "class DomesticFlight(Flight):\n",
        "    def __init__(self, flight_number, departure_airport, arrival_airport, departure_time, arrival_time, total_seats, domestic_rules):\n",
        "        super().__init__(flight_number, departure_airport, arrival_airport, departure_time, arrival_time, total_seats)\n",
        "        self.domestic_rules = domestic_rules\n",
        "\n",
        "    # Method to display domestic flight details\n",
        "    def display_flight_details(self):\n",
        "        super().display_flight_details()\n",
        "        print(f\"Domestic Rules: {self.domestic_rules}\")\n",
        "\n",
        "class InternationalFlight(Flight):\n",
        "    def __init__(self, flight_number, departure_airport, arrival_airport, departure_time, arrival_time, total_seats, visa_required):\n",
        "        super().__init__(flight_number, departure_airport, arrival_airport, departure_time, arrival_time, total_seats)\n",
        "        self.visa_required = visa_required\n",
        "\n",
        "    # Method to display international flight details\n",
        "    def display_flight_details(self):\n",
        "        super().display_flight_details()\n",
        "        print(f\"Visa Required: {'Yes' if self.visa_required else 'No'}\")\n",
        "\n",
        "# Testing the Airline Reservation System\n",
        "\n",
        "# Creating instances of DomesticFlight and InternationalFlight\n",
        "domestic_flight = DomesticFlight(\n",
        "    flight_number=\"DL123\",\n",
        "    departure_airport=\"JFK\",\n",
        "    arrival_airport=\"LAX\",\n",
        "    departure_time=\"2024-10-01 10:00\",\n",
        "    arrival_time=\"2024-10-01 13:00\",\n",
        "    total_seats=100,\n",
        "    domestic_rules=\"No pets allowed\"\n",
        ")\n",
        "\n",
        "international_flight = InternationalFlight(\n",
        "    flight_number=\"INT456\",\n",
        "    departure_airport=\"JFK\",\n",
        "    arrival_airport=\"LHR\",\n",
        "    departure_time=\"2024-10-01 20:00\",\n",
        "    arrival_time=\"2024-10-02 08:00\",\n",
        "    total_seats=150,\n",
        "    visa_required=True\n",
        ")\n",
        "\n",
        "# Registering unique IDs\n",
        "domestic_flight.set_id(301)\n",
        "international_flight.set_id(302)\n",
        "\n",
        "# Booking and canceling seats\n",
        "print(\"--- Domestic Flight Seat Management ---\")\n",
        "domestic_flight.book_seat()\n",
        "domestic_flight.book_seat()\n",
        "domestic_flight.cancel_reservation()\n",
        "\n",
        "print(\"\\n--- International Flight Seat Management ---\")\n",
        "international_flight.book_seat()\n",
        "international_flight.cancel_reservation()\n",
        "\n",
        "# Displaying flight details\n",
        "print(\"\\n--- Domestic Flight Details ---\")\n",
        "domestic_flight.display_flight_details()\n",
        "\n",
        "print(\"\\n--- International Flight Details ---\")\n",
        "international_flight.display_flight_details()"
      ],
      "metadata": {
        "colab": {
          "base_uri": "https://localhost:8080/"
        },
        "id": "PW6GhhylGTLU",
        "outputId": "a7f97fcd-4489-4157-b3ec-d9e5dbf3a268"
      },
      "execution_count": 17,
      "outputs": [
        {
          "output_type": "stream",
          "name": "stdout",
          "text": [
            "--- Domestic Flight Seat Management ---\n",
            "Seat booked successfully. Remaining seats: 99.\n",
            "Seat booked successfully. Remaining seats: 98.\n",
            "Reservation canceled. Remaining seats: 99.\n",
            "\n",
            "--- International Flight Seat Management ---\n",
            "Seat booked successfully. Remaining seats: 149.\n",
            "Reservation canceled. Remaining seats: 150.\n",
            "\n",
            "--- Domestic Flight Details ---\n",
            "Flight Number: DL123\n",
            "Departure Airport: JFK\n",
            "Arrival Airport: LAX\n",
            "Departure Time: 2024-10-01 10:00\n",
            "Arrival Time: 2024-10-01 13:00\n",
            "Available Seats: 99\n",
            "Domestic Rules: No pets allowed\n",
            "\n",
            "--- International Flight Details ---\n",
            "Flight Number: INT456\n",
            "Departure Airport: JFK\n",
            "Arrival Airport: LHR\n",
            "Departure Time: 2024-10-01 20:00\n",
            "Arrival Time: 2024-10-02 08:00\n",
            "Available Seats: 150\n",
            "Visa Required: Yes\n"
          ]
        }
      ]
    },
    {
      "cell_type": "markdown",
      "source": [
        "Question 11.Define a Python module named constants.py containing constants like pi and the speed of light."
      ],
      "metadata": {
        "id": "BKJyf4QmGkMH"
      }
    },
    {
      "cell_type": "code",
      "source": [
        "# constants.py\n",
        "\n",
        "# Mathematical constant Pi\n",
        "PI = 3.141592653589793\n",
        "\n",
        "# Speed of light in meters per second (m/s)\n",
        "SPEED_OF_LIGHT = 299792458\n"
      ],
      "metadata": {
        "id": "bg629d5GGrQa"
      },
      "execution_count": 18,
      "outputs": []
    },
    {
      "cell_type": "code",
      "source": [
        "# main.py\n",
        "\n",
        "# Import constants from the constants module\n",
        "from constants import PI, SPEED_OF_LIGHT\n",
        "\n",
        "def calculate_circumference(radius):\n",
        "    return 2 * PI * radius\n",
        "\n",
        "def time_to_travel(distance):\n",
        "    return distance / SPEED_OF_LIGHT\n",
        "\n",
        "# Example usage\n",
        "radius = 5\n",
        "distance = 1000000  # in meters\n",
        "\n",
        "circumference = calculate_circumference(radius)\n",
        "time = time_to_travel(distance)\n",
        "\n",
        "print(f\"Circumference of a circle with radius {radius}: {circumference}\")\n",
        "print(f\"Time to travel {distance} meters at the speed of light: {time} seconds\")"
      ],
      "metadata": {
        "id": "pttb7xaOHGHe"
      },
      "execution_count": null,
      "outputs": []
    },
    {
      "cell_type": "markdown",
      "source": [
        "12.Write a Python module named calculator.py containing functions for addition, subtraction, multiplication, and division"
      ],
      "metadata": {
        "id": "iJZe-b3LHjVo"
      }
    },
    {
      "cell_type": "code",
      "source": [
        "# calculator.py\n",
        "\n",
        "def add(a, b):\n",
        "    \"\"\"Return the sum of a and b.\"\"\"\n",
        "    return a + b\n",
        "\n",
        "def subtract(a, b):\n",
        "    \"\"\"Return the difference between a and b.\"\"\"\n",
        "    return a - b\n",
        "\n",
        "def multiply(a, b):\n",
        "    \"\"\"Return the product of a and b.\"\"\"\n",
        "    return a * b\n",
        "\n",
        "def divide(a, b):\n",
        "    \"\"\"Return the quotient of a divided by b.\n",
        "\n",
        "    Raises:\n",
        "        ValueError: If b is zero.\n",
        "    \"\"\"\n",
        "    if b == 0:\n",
        "        raise ValueError(\"Cannot divide by zero.\")\n",
        "    return a / b\n"
      ],
      "metadata": {
        "id": "DA-bfT8fHnoh"
      },
      "execution_count": null,
      "outputs": []
    },
    {
      "cell_type": "code",
      "source": [
        "# main.py\n",
        "\n",
        "# Import functions from the calculator module\n",
        "from calculator import add, subtract, multiply, divide\n",
        "\n",
        "def main():\n",
        "    a = 10\n",
        "    b = 5\n",
        "\n",
        "    print(f\"Addition: {a} + {b} = {add(a, b)}\")\n",
        "    print(f\"Subtraction: {a} - {b} = {subtract(a, b)}\")\n",
        "    print(f\"Multiplication: {a} * {b} = {multiply(a, b)}\")\n",
        "\n",
        "    try:\n",
        "        print(f\"Division: {a} / {b} = {divide(a, b)}\")\n",
        "    except ValueError as e:\n",
        "        print(e)\n",
        "\n",
        "# Execute the main function\n",
        "if __name__ == \"__main__\":\n",
        "    main()\n"
      ],
      "metadata": {
        "id": "dtx3GZ-zH3CB"
      },
      "execution_count": null,
      "outputs": []
    },
    {
      "cell_type": "markdown",
      "source": [
        "13.Implement a Python package structure for a project named ecommerce, containing modules for product management and order processing."
      ],
      "metadata": {
        "id": "rIqBuIk1H7N0"
      }
    },
    {
      "cell_type": "code",
      "source": [],
      "metadata": {
        "id": "GfbinOQXIXoF"
      },
      "execution_count": null,
      "outputs": []
    },
    {
      "cell_type": "markdown",
      "source": [
        "14. Implement a Python module named string_utils.py containing functions for string manipulation, such as reversing and capitalizing strings."
      ],
      "metadata": {
        "id": "aMp2GFWrJC_p"
      }
    },
    {
      "cell_type": "code",
      "source": [
        "# string_utils.py\n",
        "\n",
        "def reverse_string(s):\n",
        "    \"\"\"Return the reversed version of the string s.\"\"\"\n",
        "    if not isinstance(s, str):\n",
        "        raise ValueError(\"Input must be a string.\")\n",
        "    return s[::-1]\n",
        "\n",
        "def capitalize_string(s):\n",
        "    \"\"\"Return the string s with the first letter capitalized and the rest in lowercase.\"\"\"\n",
        "    if not isinstance(s, str):\n",
        "        raise ValueError(\"Input must be a string.\")\n",
        "    return s.capitalize()\n",
        "\n",
        "def to_uppercase(s):\n",
        "    \"\"\"Return the string s converted to uppercase.\"\"\"\n",
        "    if not isinstance(s, str):\n",
        "        raise ValueError(\"Input must be a string.\")\n",
        "    return s.upper()\n",
        "\n",
        "def to_lowercase(s):\n",
        "    \"\"\"Return the string s converted to lowercase.\"\"\"\n",
        "    if not isinstance(s, str):\n",
        "        raise ValueError(\"Input must be a string.\")\n",
        "    return s.lower()\n",
        "\n",
        "def is_palindrome(s):\n",
        "    \"\"\"Check if the string s is a palindrome (reads the same forwards and backwards).\"\"\"\n",
        "    if not isinstance(s, str):\n",
        "        raise ValueError(\"Input must be a string.\")\n",
        "    cleaned_s = s.replace(\" \", \"\").lower()\n",
        "    return cleaned_s == cleaned_s[::-1]\n"
      ],
      "metadata": {
        "id": "PTNE444kJEvx"
      },
      "execution_count": null,
      "outputs": []
    },
    {
      "cell_type": "code",
      "source": [
        "# main.py\n",
        "\n",
        "# Import functions from the string_utils module\n",
        "from string_utils import reverse_string, capitalize_string, to_uppercase, to_lowercase, is_palindrome\n",
        "\n",
        "def main():\n",
        "    text = \"Madam\"\n",
        "\n",
        "    print(f\"Original: {text}\")\n",
        "    print(f\"Reversed: {reverse_string(text)}\")\n",
        "    print(f\"Capitalized: {capitalize_string(text)}\")\n",
        "    print(f\"Uppercase: {to_uppercase(text)}\")\n",
        "    print(f\"Lowercase: {to_lowercase(text)}\")\n",
        "    print(f\"Is palindrome: {is_palindrome(text)}\")\n",
        "\n",
        "# Execute the main function\n",
        "if __name__ == \"__main__\":\n",
        "    main()\n"
      ],
      "metadata": {
        "id": "Z9Y5-RqcJJqN"
      },
      "execution_count": null,
      "outputs": []
    },
    {
      "cell_type": "markdown",
      "source": [
        "15. Write a Python module named file_operations.py with functions for reading, writing, and appending data to a file."
      ],
      "metadata": {
        "id": "3YtRDCf3JPvB"
      }
    },
    {
      "cell_type": "code",
      "source": [
        "# file_operations.py\n",
        "\n",
        "def read_file(file_path):\n",
        "    \"\"\"Read the contents of a file and return it as a string.\n",
        "\n",
        "    Args:\n",
        "        file_path (str): The path to the file to read.\n",
        "\n",
        "    Returns:\n",
        "        str: Contents of the file.\n",
        "\n",
        "    Raises:\n",
        "        FileNotFoundError: If the file does not exist.\n",
        "        IOError: If there is an error reading the file.\n",
        "    \"\"\"\n",
        "    try:\n",
        "        with open(file_path, 'r') as file:\n",
        "            return file.read()\n",
        "    except FileNotFoundError:\n",
        "        raise FileNotFoundError(f\"The file at {file_path} does not exist.\")\n",
        "    except IOError as e:\n",
        "        raise IOError(f\"An error occurred while reading the file: {e}\")\n",
        "\n",
        "def write_file(file_path, data):\n",
        "    \"\"\"Write data to a file, overwriting any existing content.\n",
        "\n",
        "    Args:\n",
        "        file_path (str): The path to the file to write.\n",
        "        data (str): The data to write to the file.\n",
        "\n",
        "    Raises:\n",
        "        IOError: If there is an error writing to the file.\n",
        "    \"\"\"\n",
        "    try:\n",
        "        with open(file_path, 'w') as file:\n",
        "            file.write(data)\n",
        "    except IOError as e:\n",
        "        raise IOError(f\"An error occurred while writing to the file: {e}\")\n",
        "\n",
        "def append_to_file(file_path, data):\n",
        "    \"\"\"Append data to the end of a file.\n",
        "\n",
        "    Args:\n",
        "        file_path (str): The path to the file to append to.\n",
        "        data (str): The data to append to the file.\n",
        "\n",
        "    Raises:\n",
        "        IOError: If there is an error appending to the file.\n",
        "    \"\"\"\n",
        "    try:\n",
        "        with open(file_path, 'a') as file:\n",
        "            file.write(data)\n",
        "    except IOError as e:\n",
        "        raise IOError(f\"An error occurred while appending to the file: {e}\")\n"
      ],
      "metadata": {
        "id": "k79tFkHPJVQu"
      },
      "execution_count": null,
      "outputs": []
    },
    {
      "cell_type": "code",
      "source": [
        "# main.py\n",
        "\n",
        "from file_operations import read_file, write_file, append_to_file\n",
        "\n",
        "def main():\n",
        "    file_path = 'example.txt'\n",
        "\n",
        "    # Write to the file\n",
        "    write_file(file_path, 'Hello, World!\\n')\n",
        "\n",
        "    # Append to the file\n",
        "    append_to_file(file_path, 'This is an appended line.\\n')\n",
        "\n",
        "    # Read from the file\n",
        "    try:\n",
        "        content = read_file(file_path)\n",
        "        print(\"File Content:\")\n",
        "        print(content)\n",
        "    except Exception as e:\n",
        "        print(e)\n",
        "\n",
        "# Execute the main function\n",
        "if __name__ == \"__main__\":\n",
        "    main()\n"
      ],
      "metadata": {
        "id": "Vk8nwecCJdUt"
      },
      "execution_count": null,
      "outputs": []
    },
    {
      "cell_type": "markdown",
      "source": [
        "16. Write a Python program to create a text file named \"employees.txt\" and write the details of employees, including their name, age, and salary, into the file."
      ],
      "metadata": {
        "id": "shZ40xhFJicS"
      }
    },
    {
      "cell_type": "code",
      "source": [
        "# Define employee details\n",
        "employees = [\n",
        "    {\"name\": \"Alice\", \"age\": 30, \"salary\": 70000},\n",
        "    {\"name\": \"Bob\", \"age\": 24, \"salary\": 50000},\n",
        "    {\"name\": \"Charlie\", \"age\": 28, \"salary\": 60000},\n",
        "    {\"name\": \"Diana\", \"age\": 35, \"salary\": 80000}\n",
        "]\n",
        "\n",
        "def write_employee_details(file_path, employee_list):\n",
        "    \"\"\"Write employee details to a text file.\n",
        "\n",
        "    Args:\n",
        "        file_path (str): The path to the file where data will be written.\n",
        "        employee_list (list): A list of dictionaries containing employee details.\n",
        "    \"\"\"\n",
        "    try:\n",
        "        with open(file_path, 'w') as file:\n",
        "            for employee in employee_list:\n",
        "                line = f\"Name: {employee['name']}, Age: {employee['age']}, Salary: ${employee['salary']:.2f}\\n\"\n",
        "                file.write(line)\n",
        "        print(f\"Employee details have been written to {file_path}.\")\n",
        "    except IOError as e:\n",
        "        print(f\"An error occurred while writing to the file: {e}\")\n",
        "\n",
        "# File path\n",
        "file_path = 'employees.txt'\n",
        "\n",
        "# Write employee details to the file\n",
        "write_employee_details(file_path, employees)"
      ],
      "metadata": {
        "id": "l_yTUCn6JwAz"
      },
      "execution_count": null,
      "outputs": []
    },
    {
      "cell_type": "markdown",
      "source": [
        "17. Develop a Python script that opens an existing text file named \"inventory.txt\" in read mode and displays the contents of the file line by line."
      ],
      "metadata": {
        "id": "4Zlap_ygKMYc"
      }
    },
    {
      "cell_type": "code",
      "source": [
        "def read_and_display_file(file_path):\n",
        "    \"\"\"Read the contents of a file and display each line.\n",
        "\n",
        "    Args:\n",
        "        file_path (str): The path to the file to be read.\n",
        "    \"\"\"\n",
        "    try:\n",
        "        with open(file_path, 'r') as file:\n",
        "            for line in file:\n",
        "                print(line, end='')  # Use end='' to avoid double newlines\n",
        "    except FileNotFoundError:\n",
        "        print(f\"The file at {file_path} does not exist.\")\n",
        "    except IOError as e:\n",
        "        print(f\"An error occurred while reading the file: {e}\")\n",
        "\n",
        "# File path\n",
        "file_path = 'inventory.txt'\n",
        "\n",
        "# Read and display the contents of the file\n",
        "read_and_display_file(file_path)"
      ],
      "metadata": {
        "id": "a0jnFanGKQrx"
      },
      "execution_count": null,
      "outputs": []
    },
    {
      "cell_type": "markdown",
      "source": [
        "18.Create a Python script that reads a text file named \"expenses.txt\" and calculates the total amount spent on various expenses listed in the file.\n"
      ],
      "metadata": {
        "id": "3ibRRsqCKY2c"
      }
    },
    {
      "cell_type": "code",
      "source": [
        "def calculate_total_expenses(file_path):\n",
        "    \"\"\"Calculate the total amount spent based on the expenses listed in a file.\n",
        "\n",
        "    Args:\n",
        "        file_path (str): The path to the file containing expense amounts.\n",
        "\n",
        "    Returns:\n",
        "        float: The total amount spent.\n",
        "    \"\"\"\n",
        "    total = 0.0\n",
        "\n",
        "    try:\n",
        "        with open(file_path, 'r') as file:\n",
        "            for line in file:\n",
        "                # Remove leading/trailing whitespace and split by space\n",
        "                line = line.strip()\n",
        "                if line:  # Process non-empty lines\n",
        "                    try:\n",
        "                        # Extract the amount assuming it's the last part of the line\n",
        "                        parts = line.split()\n",
        "                        amount = float(parts[-1])\n",
        "                        total += amount\n",
        "                    except ValueError:\n",
        "                        print(f\"Skipping invalid line: {line}\")\n",
        "\n",
        "        return total\n",
        "    except FileNotFoundError:\n",
        "        print(f\"The file at {file_path} does not exist.\")\n",
        "        return 0.0\n",
        "    except IOError as e:\n",
        "        print(f\"An error occurred while reading the file: {e}\")\n",
        "        return 0.0\n",
        "\n",
        "# File path\n",
        "file_path = 'expenses.txt'\n",
        "\n",
        "# Calculate and display the total expenses\n",
        "total_expenses = calculate_total_expenses(file_path)\n",
        "print(f\"Total expenses: ${total_expenses:.2f}\")"
      ],
      "metadata": {
        "id": "72oerHByKjf9"
      },
      "execution_count": null,
      "outputs": []
    },
    {
      "cell_type": "markdown",
      "source": [
        "19.Create a Python program that reads a text file named \"paragraph.txt\" and counts the occurrences of each word in the paragraph, displaying the results in alphabetical order.\n"
      ],
      "metadata": {
        "id": "RgF-jVhHK51Z"
      }
    },
    {
      "cell_type": "code",
      "source": [
        "import string\n",
        "from collections import defaultdict\n",
        "\n",
        "def count_word_occurrences(file_path):\n",
        "    \"\"\"Read a file and count occurrences of each word.\n",
        "\n",
        "    Args:\n",
        "        file_path (str): The path to the text file.\n",
        "\n",
        "    Returns:\n",
        "        dict: A dictionary with words as keys and their counts as values.\n",
        "    \"\"\"\n",
        "    word_count = defaultdict(int)\n",
        "\n",
        "    try:\n",
        "        with open(file_path, 'r') as file:\n",
        "            for line in file:\n",
        "                # Remove punctuation and convert to lowercase\n",
        "                line = line.lower()\n",
        "                line = line.translate(str.maketrans('', '', string.punctuation))\n",
        "\n",
        "                # Split line into words\n",
        "                words = line.split()\n",
        "\n",
        "                # Count each word\n",
        "                for word in words:\n",
        "                    word_count[word] += 1\n",
        "\n",
        "        return dict(word_count)\n",
        "    except FileNotFoundError:\n",
        "        print(f\"The file at {file_path} does not exist.\")\n",
        "        return {}\n",
        "    except IOError as e:\n",
        "        print(f\"An error occurred while reading the file: {e}\")\n",
        "        return {}\n",
        "\n",
        "def display_word_counts(word_counts):\n",
        "    \"\"\"Display word counts in alphabetical order.\n",
        "\n",
        "    Args:\n",
        "        word_counts (dict): A dictionary with words as keys and their counts as values.\n",
        "    \"\"\"\n",
        "    # Sort the dictionary by keys (words)\n",
        "    sorted_words = sorted(word_counts.items())\n",
        "\n",
        "    print(\"Word counts:\")\n",
        "    for word, count in sorted_words:\n",
        "        print(f\"{word}: {count}\")\n",
        "\n",
        "# File path\n",
        "file_path = 'paragraph.txt'\n",
        "\n",
        "# Count occurrences of each word\n",
        "word_counts = count_word_occurrences(file_path)\n",
        "\n",
        "# Display the results\n",
        "display_word_counts(word_counts)"
      ],
      "metadata": {
        "id": "5dQb8CmYLDB0"
      },
      "execution_count": null,
      "outputs": []
    }
  ]
}